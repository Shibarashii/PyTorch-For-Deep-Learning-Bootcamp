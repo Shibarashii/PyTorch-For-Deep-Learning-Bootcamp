{
 "cells": [
  {
   "cell_type": "markdown",
   "metadata": {
    "id": "N8LsPXZti9Sw"
   },
   "source": [
    "# 01. PyTorch Workflow Exercise Template\n",
    "\n",
    "The following is a template for the PyTorch workflow exercises.\n",
    "\n",
    "It's only starter code and it's your job to fill in the blanks.\n",
    "\n",
    "Because of the flexibility of PyTorch, there may be more than one way to answer the question.\n",
    "\n",
    "Don't worry about trying to be *right* just try writing code that suffices the question.\n",
    "\n",
    "You can see one form of [solutions on GitHub](https://github.com/mrdbourke/pytorch-deep-learning/tree/main/extras/solutions) (but try the exercises below yourself first!)."
   ]
  },
  {
   "cell_type": "code",
   "execution_count": 62,
   "metadata": {
    "executionInfo": {
     "elapsed": 1,
     "status": "ok",
     "timestamp": 1744957355232,
     "user": {
      "displayName": "VALDEABELLA, Seanrei Ethan",
      "userId": "09555695647680111144"
     },
     "user_tz": -480
    },
    "id": "Glu2fM4dkNlx"
   },
   "outputs": [],
   "source": [
    "# Import necessary libraries\n",
    "import numpy as np\n",
    "import torch\n",
    "from torch import nn\n",
    "import matplotlib.pyplot as plt"
   ]
  },
  {
   "cell_type": "code",
   "execution_count": 63,
   "metadata": {
    "colab": {
     "base_uri": "https://localhost:8080/"
    },
    "executionInfo": {
     "elapsed": 53,
     "status": "ok",
     "timestamp": 1744957355288,
     "user": {
      "displayName": "VALDEABELLA, Seanrei Ethan",
      "userId": "09555695647680111144"
     },
     "user_tz": -480
    },
    "id": "LqKhXY26m31s",
    "outputId": "637d78d2-3108-44f2-8f4d-4d225d77fa01"
   },
   "outputs": [
    {
     "name": "stdout",
     "output_type": "stream",
     "text": [
      "cuda\n"
     ]
    }
   ],
   "source": [
    "# Setup device-agnostic code\n",
    "device = torch.device(\"cuda\" if torch.cuda.is_available() else \"cpu\")\n",
    "print(device)"
   ]
  },
  {
   "cell_type": "markdown",
   "metadata": {
    "id": "g7HUhxCxjeBx"
   },
   "source": [
    "## 1. Create a straight line dataset using the linear regression formula (`weight * X + bias`).\n",
    "  * Set `weight=0.3` and `bias=0.9` there should be at least 100 datapoints total.\n",
    "  * Split the data into 80% training, 20% testing.\n",
    "  * Plot the training and testing data so it becomes visual.\n",
    "\n",
    "Your output of the below cell should look something like:\n",
    "```\n",
    "Number of X samples: 100\n",
    "Number of y samples: 100\n",
    "First 10 X & y samples:\n",
    "X: tensor([0.0000, 0.0100, 0.0200, 0.0300, 0.0400, 0.0500, 0.0600, 0.0700, 0.0800,\n",
    "        0.0900])\n",
    "y: tensor([0.9000, 0.9030, 0.9060, 0.9090, 0.9120, 0.9150, 0.9180, 0.9210, 0.9240,\n",
    "        0.9270])\n",
    "```\n",
    "\n",
    "Of course the numbers in `X` and `y` may be different but ideally they're created using the linear regression formula."
   ]
  },
  {
   "cell_type": "code",
   "execution_count": 64,
   "metadata": {
    "colab": {
     "base_uri": "https://localhost:8080/"
    },
    "executionInfo": {
     "elapsed": 4,
     "status": "ok",
     "timestamp": 1744957355293,
     "user": {
      "displayName": "VALDEABELLA, Seanrei Ethan",
      "userId": "09555695647680111144"
     },
     "user_tz": -480
    },
    "id": "KbDG5MV7jhvE",
    "outputId": "e6d760dd-f93a-48e8-d6e2-eec92953f3b2"
   },
   "outputs": [
    {
     "name": "stdout",
     "output_type": "stream",
     "text": [
      "Number of X samples: 100\n",
      "Number of y samples: 100\n",
      "First 10 X & y samples:\n",
      "X: tensor([[0.0000],\n",
      "        [0.0100],\n",
      "        [0.0200],\n",
      "        [0.0300],\n",
      "        [0.0400],\n",
      "        [0.0500],\n",
      "        [0.0600],\n",
      "        [0.0700],\n",
      "        [0.0800],\n",
      "        [0.0900]])\n",
      "y: tensor([[0.9000],\n",
      "        [0.9030],\n",
      "        [0.9060],\n",
      "        [0.9090],\n",
      "        [0.9120],\n",
      "        [0.9150],\n",
      "        [0.9180],\n",
      "        [0.9210],\n",
      "        [0.9240],\n",
      "        [0.9270]])\n"
     ]
    }
   ],
   "source": [
    "# Create the data parameters\n",
    "weight = 0.3\n",
    "bias = 0.9\n",
    "\n",
    "start = 0\n",
    "end = 1\n",
    "step = 0.01\n",
    "\n",
    "X = torch.arange(start, end, step).unsqueeze(dim=1)\n",
    "y = weight * X + bias\n",
    "\n",
    "# Make X and y using linear regression feature\n",
    "print(f\"Number of X samples: {len(X)}\")\n",
    "print(f\"Number of y samples: {len(y)}\")\n",
    "print(f\"First 10 X & y samples:\\nX: {X[:10]}\\ny: {y[:10]}\")"
   ]
  },
  {
   "cell_type": "code",
   "execution_count": 65,
   "metadata": {
    "executionInfo": {
     "elapsed": 2,
     "status": "ok",
     "timestamp": 1744957355294,
     "user": {
      "displayName": "VALDEABELLA, Seanrei Ethan",
      "userId": "09555695647680111144"
     },
     "user_tz": -480
    },
    "id": "GlwtT1djkmLw"
   },
   "outputs": [],
   "source": [
    "# Split the data into training and testing\n",
    "split = int(0.8 * len(X))\n",
    "\n",
    "X_train, y_train = X[:split], y[:split]\n",
    "X_test, y_test = X[split:], y[split:]"
   ]
  },
  {
   "cell_type": "code",
   "execution_count": 66,
   "metadata": {
    "colab": {
     "base_uri": "https://localhost:8080/",
     "height": 693
    },
    "executionInfo": {
     "elapsed": 135,
     "status": "ok",
     "timestamp": 1744957355428,
     "user": {
      "displayName": "VALDEABELLA, Seanrei Ethan",
      "userId": "09555695647680111144"
     },
     "user_tz": -480
    },
    "id": "29iQZFNhlYJ-",
    "outputId": "c364a84e-9d37-4be7-dd43-4a161bdc9191"
   },
   "outputs": [
    {
     "data": {
      "text/plain": [
       "<matplotlib.collections.PathCollection at 0x7946115b1190>"
      ]
     },
     "execution_count": 66,
     "metadata": {},
     "output_type": "execute_result"
    },
    {
     "data": {
      "image/png": "[encoded data removed]",
      "text/plain": [
       "<Figure size 1000x800 with 1 Axes>"
      ]
     },
     "metadata": {},
     "output_type": "display_data"
    }
   ],
   "source": [
    "# Plot the training and testing data\n",
    "plt.figure(figsize=(10, 8))\n",
    "plt.scatter(X_train, y_train, label=\"Training Set\", s=4)\n",
    "plt.scatter(X_test, y_test, label=\"Test Set\", s=4)"
   ]
  },
  {
   "cell_type": "markdown",
   "metadata": {
    "id": "ImZoe3v8jif8"
   },
   "source": [
    "## 2. Build a PyTorch model by subclassing `nn.Module`.\n",
    "  * Inside should be a randomly initialized `nn.Parameter()` with `requires_grad=True`, one for `weights` and one for `bias`.\n",
    "  * Implement the `forward()` method to compute the linear regression function you used to create the dataset in 1.\n",
    "  * Once you've constructed the model, make an instance of it and check its `state_dict()`.\n",
    "  * **Note:** If you'd like to use `nn.Linear()` instead of `nn.Parameter()` you can."
   ]
  },
  {
   "cell_type": "code",
   "execution_count": 67,
   "metadata": {
    "executionInfo": {
     "elapsed": 1,
     "status": "ok",
     "timestamp": 1744957355429,
     "user": {
      "displayName": "VALDEABELLA, Seanrei Ethan",
      "userId": "09555695647680111144"
     },
     "user_tz": -480
    },
    "id": "qzd__Y5rjtB8"
   },
   "outputs": [],
   "source": [
    "# Create PyTorch linear regression model by subclassing nn.Module\n",
    "class LinearRegressionModel(nn.Module):\n",
    "    def __init__(self):\n",
    "        super().__init__()\n",
    "        self.linear_layer = nn.Linear(in_features=1, out_features=1)\n",
    "\n",
    "    def forward(self, x: torch.Tensor) -> torch.Tensor:\n",
    "        return self.linear_layer(x)\n",
    "\n",
    "\n",
    "class LinearRegressionModelV2(nn.Module):\n",
    "    def __init__(self):\n",
    "        super().__init__()\n",
    "        self.weights = nn.Parameter(torch.randn(1, requires_grad=True, dtype=torch.float))\n",
    "        self.bias = nn.Parameter(torch.randn(1, requires_grad=True, dtype=torch.float))\n",
    "\n",
    "    def forward(self, x: torch.Tensor):\n",
    "        return self.weights * x + self.bias"
   ]
  },
  {
   "cell_type": "code",
   "execution_count": 68,
   "metadata": {
    "colab": {
     "base_uri": "https://localhost:8080/"
    },
    "executionInfo": {
     "elapsed": 3,
     "status": "ok",
     "timestamp": 1744957355433,
     "user": {
      "displayName": "VALDEABELLA, Seanrei Ethan",
      "userId": "09555695647680111144"
     },
     "user_tz": -480
    },
    "id": "5LdcDnmOmyQ2",
    "outputId": "8431bd3c-b9bb-4e9e-8ee5-5959533dcc4e"
   },
   "outputs": [
    {
     "data": {
      "text/plain": [
       "(LinearRegressionModel(\n",
       "   (linear_layer): Linear(in_features=1, out_features=1, bias=True)\n",
       " ),\n",
       " LinearRegressionModelV2())"
      ]
     },
     "execution_count": 68,
     "metadata": {},
     "output_type": "execute_result"
    }
   ],
   "source": [
    "# Instantiate the model and put it to the target device\n",
    "model_0 = LinearRegressionModel()\n",
    "model_1 = LinearRegressionModelV2()\n",
    "\n",
    "model_0.to(device), model_1.to(device)"
   ]
  },
  {
   "cell_type": "markdown",
   "metadata": {
    "id": "G6nYOrJhjtfu"
   },
   "source": [
    "## 3. Create a loss function and optimizer using `nn.L1Loss()` and `torch.optim.SGD(params, lr)` respectively.\n",
    "  * Set the learning rate of the optimizer to be 0.01 and the parameters to optimize should be the model parameters from the model you created in 2.\n",
    "  * Write a training loop to perform the appropriate training steps for 300 epochs.\n",
    "  * The training loop should test the model on the test dataset every 20 epochs."
   ]
  },
  {
   "cell_type": "code",
   "execution_count": 69,
   "metadata": {
    "executionInfo": {
     "elapsed": 6,
     "status": "ok",
     "timestamp": 1744957355440,
     "user": {
      "displayName": "VALDEABELLA, Seanrei Ethan",
      "userId": "09555695647680111144"
     },
     "user_tz": -480
    },
    "id": "ltvoZ-FWjv1j"
   },
   "outputs": [],
   "source": [
    "# Create the loss function and optimizer\n",
    "loss_fn = nn.L1Loss()\n",
    "optimizer = torch.optim.SGD(params=model_0.parameters(), lr=0.01)"
   ]
  },
  {
   "cell_type": "code",
   "execution_count": 70,
   "metadata": {
    "colab": {
     "base_uri": "https://localhost:8080/"
    },
    "executionInfo": {
     "elapsed": 254,
     "status": "ok",
     "timestamp": 1744957355693,
     "user": {
      "displayName": "VALDEABELLA, Seanrei Ethan",
      "userId": "09555695647680111144"
     },
     "user_tz": -480
    },
    "id": "xpE83NvNnkdV",
    "outputId": "75f9dbe9-9520-4d39-e027-7863238f624f"
   },
   "outputs": [
    {
     "name": "stdout",
     "output_type": "stream",
     "text": [
      "Epoch: 0 | Train loss: 0.870 | Test loss: 0.958\n",
      "Epoch: 20 | Train loss: 0.639 | Test loss: 0.687\n",
      "Epoch: 40 | Train loss: 0.408 | Test loss: 0.417\n",
      "Epoch: 60 | Train loss: 0.177 | Test loss: 0.146\n",
      "Epoch: 80 | Train loss: 0.017 | Test loss: 0.038\n",
      "Epoch: 100 | Train loss: 0.010 | Test loss: 0.023\n",
      "Epoch: 120 | Train loss: 0.003 | Test loss: 0.006\n",
      "Epoch: 140 | Train loss: 0.005 | Test loss: 0.010\n",
      "Epoch: 160 | Train loss: 0.005 | Test loss: 0.010\n",
      "Epoch: 180 | Train loss: 0.005 | Test loss: 0.010\n",
      "Epoch: 200 | Train loss: 0.005 | Test loss: 0.010\n",
      "Epoch: 220 | Train loss: 0.005 | Test loss: 0.010\n",
      "Epoch: 240 | Train loss: 0.005 | Test loss: 0.010\n",
      "Epoch: 260 | Train loss: 0.005 | Test loss: 0.010\n",
      "Epoch: 280 | Train loss: 0.005 | Test loss: 0.010\n"
     ]
    }
   ],
   "source": [
    "# Training loop\n",
    "\n",
    "\n",
    "# Train model for 300 epochs\n",
    "epochs = 300\n",
    "\n",
    "# Put data on the target device (device agnostic code for data)\n",
    "X_train = X_train.to(device)\n",
    "y_train = y_train.to(device)\n",
    "X_test = X_test.to(device)\n",
    "y_test = y_test.to(device)\n",
    "\n",
    "for epoch in range(epochs):\n",
    "  ### Training\n",
    "\n",
    "  # Put model in train mode\n",
    "    model_0.train()\n",
    "\n",
    "  # 1. Forward pass\n",
    "    y_pred = model_0(X_train)\n",
    "\n",
    "  # 2. Calculate loss\n",
    "    loss = loss_fn(y_pred, y_train)\n",
    "\n",
    "  # 3. Zero gradients\n",
    "    optimizer.zero_grad()\n",
    "\n",
    "  # 4. Backpropagation\n",
    "    loss.backward()\n",
    "\n",
    "  # 5. Step the optimizer\n",
    "    optimizer.step()\n",
    "\n",
    "    ### Perform testing every 20 epochs\n",
    "    if epoch % 20 == 0:\n",
    "\n",
    "        # Put model in evaluation mode and setup inference context\n",
    "        model_0.eval()\n",
    "        with torch.inference_mode():\n",
    "            # 1. Forward pass\n",
    "            test_pred = model_0(X_test)\n",
    "            # 2. Calculate test loss\n",
    "            test_loss = loss_fn(test_pred, y_test)\n",
    "        # Print out what's happening\n",
    "        print(f\"Epoch: {epoch} | Train loss: {loss:.3f} | Test loss: {test_loss:.3f}\")"
   ]
  },
  {
   "cell_type": "markdown",
   "metadata": {
    "id": "x4j4TM18jwa7"
   },
   "source": [
    "## 4. Make predictions with the trained model on the test data.\n",
    "  * Visualize these predictions against the original training and testing data (**note:** you may need to make sure the predictions are *not* on the GPU if you want to use non-CUDA-enabled libraries such as matplotlib to plot)."
   ]
  },
  {
   "cell_type": "code",
   "execution_count": 71,
   "metadata": {
    "executionInfo": {
     "elapsed": 1,
     "status": "ok",
     "timestamp": 1744957355700,
     "user": {
      "displayName": "VALDEABELLA, Seanrei Ethan",
      "userId": "09555695647680111144"
     },
     "user_tz": -480
    },
    "id": "bbMPK5Qjjyx_"
   },
   "outputs": [],
   "source": [
    "# Make predictions with the model\n",
    "model_0.eval()\n",
    "with torch.inference_mode():\n",
    "    y_preds = model_0(X_test)"
   ]
  },
  {
   "cell_type": "code",
   "execution_count": 72,
   "metadata": {
    "colab": {
     "base_uri": "https://localhost:8080/",
     "height": 693
    },
    "executionInfo": {
     "elapsed": 185,
     "status": "ok",
     "timestamp": 1744957355886,
     "user": {
      "displayName": "VALDEABELLA, Seanrei Ethan",
      "userId": "09555695647680111144"
     },
     "user_tz": -480
    },
    "id": "K3BdmQaDpFo8",
    "outputId": "68a65cfe-7083-41a0-de34-0ca4e60c72a0"
   },
   "outputs": [
    {
     "data": {
      "text/plain": [
       "<matplotlib.collections.PathCollection at 0x79461181de50>"
      ]
     },
     "execution_count": 72,
     "metadata": {},
     "output_type": "execute_result"
    },
    {
     "data": {
      "image/png": "[encoded data removed]",
      "text/plain": [
       "<Figure size 1000x800 with 1 Axes>"
      ]
     },
     "metadata": {},
     "output_type": "display_data"
    }
   ],
   "source": [
    "# Plot the predictions (these may need to be on a specific device)\n",
    "plt.figure(figsize=(10, 8))\n",
    "plt.scatter(X_train.cpu(), y_train.cpu(), label=\"Training Set\", s=4)\n",
    "plt.scatter(X_test.cpu(), y_test.cpu(), label=\"Training Set\", s=4)\n",
    "plt.scatter(X_test.cpu(), y_preds.cpu(), label=\"Training Set\", s=4)\n"
   ]
  },
  {
   "cell_type": "markdown",
   "metadata": {
    "id": "s2OnlMWKjzX8"
   },
   "source": [
    "## 5. Save your trained model's `state_dict()` to file.\n",
    "  * Create a new instance of your model class you made in 2. and load in the `state_dict()` you just saved to it.\n",
    "  * Perform predictions on your test data with the loaded model and confirm they match the original model predictions from 4."
   ]
  },
  {
   "cell_type": "code",
   "execution_count": 73,
   "metadata": {
    "executionInfo": {
     "elapsed": 0,
     "status": "ok",
     "timestamp": 1744957355887,
     "user": {
      "displayName": "VALDEABELLA, Seanrei Ethan",
      "userId": "09555695647680111144"
     },
     "user_tz": -480
    },
    "id": "hgxhgD14qr-i"
   },
   "outputs": [],
   "source": [
    "from pathlib import Path\n",
    "\n",
    "# 1. Create models directory\n",
    "MODEL_PATH = Path(\"Models\")\n",
    "MODEL_PATH.mkdir(parents=True, exist_ok=True)\n",
    "\n",
    "MODEL_NAME = \"01-pytorch-workflow-exercises.pth\"\n",
    "\n",
    "# 2. Create model save path\n",
    "SAVE_PATH = MODEL_PATH / MODEL_NAME\n",
    "\n",
    "# 3. Save the model state dict\n",
    "torch.save(model_0.state_dict(), SAVE_PATH)"
   ]
  },
  {
   "cell_type": "code",
   "execution_count": 74,
   "metadata": {
    "colab": {
     "base_uri": "https://localhost:8080/"
    },
    "executionInfo": {
     "elapsed": 48,
     "status": "ok",
     "timestamp": 1744957355941,
     "user": {
      "displayName": "VALDEABELLA, Seanrei Ethan",
      "userId": "09555695647680111144"
     },
     "user_tz": -480
    },
    "id": "P9vTgiLRrJ7T",
    "outputId": "a67feb27-732c-4b5f-cd70-9f4907169a38"
   },
   "outputs": [
    {
     "data": {
      "text/plain": [
       "LinearRegressionModel(\n",
       "  (linear_layer): Linear(in_features=1, out_features=1, bias=True)\n",
       ")"
      ]
     },
     "execution_count": 74,
     "metadata": {},
     "output_type": "execute_result"
    }
   ],
   "source": [
    "# Create new instance of model and load saved state dict (make sure to put it on the target device)\n",
    "new_model = LinearRegressionModel()\n",
    "new_model.load_state_dict(torch.load(SAVE_PATH))\n",
    "new_model.to(device)"
   ]
  },
  {
   "cell_type": "code",
   "execution_count": 75,
   "metadata": {
    "colab": {
     "base_uri": "https://localhost:8080/"
    },
    "executionInfo": {
     "elapsed": 3,
     "status": "ok",
     "timestamp": 1744957355941,
     "user": {
      "displayName": "VALDEABELLA, Seanrei Ethan",
      "userId": "09555695647680111144"
     },
     "user_tz": -480
    },
    "id": "8UGX3VebrVtI",
    "outputId": "bd24ca4c-c1c8-40cd-fe03-db975f36b7ca"
   },
   "outputs": [
    {
     "name": "stdout",
     "output_type": "stream",
     "text": [
      "tensor([[1.1365],\n",
      "        [1.1396],\n",
      "        [1.1426],\n",
      "        [1.1456],\n",
      "        [1.1486],\n",
      "        [1.1517],\n",
      "        [1.1547],\n",
      "        [1.1577],\n",
      "        [1.1608],\n",
      "        [1.1638],\n",
      "        [1.1668],\n",
      "        [1.1699],\n",
      "        [1.1729],\n",
      "        [1.1759],\n",
      "        [1.1789],\n",
      "        [1.1820],\n",
      "        [1.1850],\n",
      "        [1.1880],\n",
      "        [1.1911],\n",
      "        [1.1941]], device='cuda:0')\n"
     ]
    }
   ],
   "source": [
    "# Make predictions with loaded model and compare them to the previous\n",
    "new_model.eval()\n",
    "with torch.inference_mode():\n",
    "    y_preds_new = model_0(X_test)\n",
    "\n",
    "print(y_preds_new)"
   ]
  },
  {
   "cell_type": "code",
   "execution_count": 76,
   "metadata": {
    "colab": {
     "base_uri": "https://localhost:8080/",
     "height": 693
    },
    "executionInfo": {
     "elapsed": 150,
     "status": "ok",
     "timestamp": 1744957356089,
     "user": {
      "displayName": "VALDEABELLA, Seanrei Ethan",
      "userId": "09555695647680111144"
     },
     "user_tz": -480
    },
    "id": "Re6gTYGwjy36",
    "outputId": "e86dd056-37af-46a7-f3c0-812d06eeb7b5"
   },
   "outputs": [
    {
     "data": {
      "text/plain": [
       "<matplotlib.collections.PathCollection at 0x7946115a4a10>"
      ]
     },
     "execution_count": 76,
     "metadata": {},
     "output_type": "execute_result"
    },
    {
     "data": {
      "image/png": "[encoded data removed]",
      "text/plain": [
       "<Figure size 1000x800 with 1 Axes>"
      ]
     },
     "metadata": {},
     "output_type": "display_data"
    }
   ],
   "source": [
    "# Plot the predictions (these may need to be on a specific device)\n",
    "plt.figure(figsize=(10, 8))\n",
    "plt.scatter(X_train.cpu(), y_train.cpu(), label=\"Training Set\", s=4)\n",
    "plt.scatter(X_test.cpu(), y_test.cpu(), label=\"Training Set\", s=4)\n",
    "plt.scatter(X_test.cpu(), y_preds_new.cpu(), label=\"Training Set\", s=4)"
   ]
  }
 ],
 "metadata": {
  "accelerator": "GPU",
  "colab": {
   "provenance": [
    {
     "file_id": "https://github.com/mrdbourke/pytorch-deep-learning/blob/main/extras/exercises/01_pytorch_workflow_exercises.ipynb",
     "timestamp": 1744954569472
    }
   ]
  },
  "kernelspec": {
   "display_name": ".env",
   "language": "python",
   "name": "python3"
  },
  "language_info": {
   "name": "python",
   "version": "3.13.3"
  }
 },
 "nbformat": 4,
 "nbformat_minor": 0
}
