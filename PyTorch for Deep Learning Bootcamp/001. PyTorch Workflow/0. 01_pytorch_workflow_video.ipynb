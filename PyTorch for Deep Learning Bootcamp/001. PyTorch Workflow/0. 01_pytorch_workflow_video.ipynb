{
 "cells": [
  {
   "cell_type": "markdown",
   "metadata": {
    "id": "GueCJBJp9vSk"
   },
   "source": [
    "# PyTorch Workflow\n",
    "\n",
    "Let's explore an example of PyTorch end-to-end workflow\n",
    "\n",
    "Resources:\n",
    "- Ground Truth notebook - https://github.com/mrdbourke/pytorch-deep-learning/blob/main/01_pytorch_workflow.ipynb\n",
    "- Book version of notebook - https://www.learnpytorch.io/01_pytorch_workflow/"
   ]
  },
  {
   "cell_type": "code",
   "execution_count": 1,
   "metadata": {
    "executionInfo": {
     "elapsed": 12,
     "status": "ok",
     "timestamp": 1744955205965,
     "user": {
      "displayName": "VALDEABELLA, Seanrei Ethan",
      "userId": "09555695647680111144"
     },
     "user_tz": -480
    },
    "id": "8Wc5I9V9-qaJ"
   },
   "outputs": [],
   "source": [
    "what_were_covering = {\n",
    "    1: \"data (prepare and load)\",\n",
    "    2: \"build model\",\n",
    "    3: \"fitting the model to data (training)\" ,\n",
    "    4: \"making predicitons and evaluating a model (inference)\",\n",
    "    5: \"saving and loading a model\",\n",
    "    6: \"putting it all together\"\n",
    "}"
   ]
  },
  {
   "cell_type": "code",
   "execution_count": 118,
   "metadata": {
    "colab": {
     "base_uri": "https://localhost:8080/",
     "height": 35
    },
    "executionInfo": {
     "elapsed": 16,
     "status": "ok",
     "timestamp": 1744955205981,
     "user": {
      "displayName": "VALDEABELLA, Seanrei Ethan",
      "userId": "09555695647680111144"
     },
     "user_tz": -480
    },
    "id": "xhkmI4c2_NQw",
    "outputId": "0f278538-424f-4f40-d3a4-bda74d4124bf"
   },
   "outputs": [
    {
     "data": {
      "application/vnd.google.colaboratory.intrinsic+json": {
       "type": "string"
      },
      "text/plain": [
       "'2.6.0+cu124'"
      ]
     },
     "execution_count": 118,
     "metadata": {},
     "output_type": "execute_result"
    }
   ],
   "source": [
    "import torch\n",
    "from torch import nn  # nn contrains all of PyTorch's building blocks\n",
    "import matplotlib.pyplot as plt\n",
    "\n",
    "# Check PyTorch Version\n",
    "torch.__version__"
   ]
  },
  {
   "cell_type": "markdown",
   "metadata": {
    "id": "cG-7hSIT_QNb"
   },
   "source": [
    "## 1. Data (preparing and loading)\n",
    "\n",
    "Data can be almost anything in machine learning.\n",
    "\n",
    "- Excel spreadsheet\n",
    "- Images of any kind\n",
    "- Videos (YouTube has lots of data)\n",
    "- Audio like songs or podcasts\n",
    "- DNA\n",
    "- Text\n",
    "\n",
    "Machine learning is a game of two parts:\n",
    "\n",
    "1. Get data into a numerical representation.\n",
    "2. Build a model to learn patterns in that numerical representation.\n",
    "\n",
    "To showcase this, let's create some *known* data  using the linear regression formula\n",
    "\n",
    "We'll use a linear regression formula to make a stragiht line with *known* **parameters**"
   ]
  },
  {
   "cell_type": "code",
   "execution_count": 119,
   "metadata": {
    "colab": {
     "base_uri": "https://localhost:8080/"
    },
    "executionInfo": {
     "elapsed": 60,
     "status": "ok",
     "timestamp": 1744955206041,
     "user": {
      "displayName": "VALDEABELLA, Seanrei Ethan",
      "userId": "09555695647680111144"
     },
     "user_tz": -480
    },
    "id": "IvWXXATpA7_J",
    "outputId": "df8fc547-846e-4fba-91f0-0196e8aa651d"
   },
   "outputs": [
    {
     "data": {
      "text/plain": [
       "(tensor([[0.0000],\n",
       "         [0.0200],\n",
       "         [0.0400],\n",
       "         [0.0600],\n",
       "         [0.0800],\n",
       "         [0.1000],\n",
       "         [0.1200],\n",
       "         [0.1400],\n",
       "         [0.1600],\n",
       "         [0.1800]]),\n",
       " tensor([[0.3000],\n",
       "         [0.3140],\n",
       "         [0.3280],\n",
       "         [0.3420],\n",
       "         [0.3560],\n",
       "         [0.3700],\n",
       "         [0.3840],\n",
       "         [0.3980],\n",
       "         [0.4120],\n",
       "         [0.4260]]),\n",
       " 50,\n",
       " 50)"
      ]
     },
     "execution_count": 119,
     "metadata": {},
     "output_type": "execute_result"
    }
   ],
   "source": [
    "# Create known parameters\n",
    "weight = 0.7  # b (slope)\n",
    "bias = 0.3  # a (y-intercept)\n",
    "\n",
    "# Create\n",
    "start = 0\n",
    "end = 1\n",
    "step = 0.02\n",
    "\n",
    "X = torch.arange(start, end, step).unsqueeze(dim=1)\n",
    "y = weight * X + bias\n",
    "\n",
    "X[:10], y[:10], len(X), len(y)"
   ]
  },
  {
   "cell_type": "markdown",
   "metadata": {
    "id": "KEfSBD7sDPrE"
   },
   "source": [
    "### Splitting data into training and test sets (one of the most important concepts in machine learning in general)"
   ]
  },
  {
   "cell_type": "code",
   "execution_count": 120,
   "metadata": {
    "colab": {
     "base_uri": "https://localhost:8080/"
    },
    "executionInfo": {
     "elapsed": 4,
     "status": "ok",
     "timestamp": 1744955206041,
     "user": {
      "displayName": "VALDEABELLA, Seanrei Ethan",
      "userId": "09555695647680111144"
     },
     "user_tz": -480
    },
    "id": "U5VNj9ohEmLe",
    "outputId": "0f4e4a98-a38d-4084-f85f-c3a8853acb1f"
   },
   "outputs": [
    {
     "data": {
      "text/plain": [
       "(40, 40, 10, 10)"
      ]
     },
     "execution_count": 120,
     "metadata": {},
     "output_type": "execute_result"
    }
   ],
   "source": [
    "# Create train/test split\n",
    "train_split = int(0.8 * len(X))\n",
    "X_train, y_train = X[:train_split], y[:train_split]\n",
    "X_test, y_test = X[train_split:], y[train_split:]\n",
    "\n",
    "len(X_train), len(y_train), len(X_test), len(y_test)"
   ]
  },
  {
   "cell_type": "markdown",
   "metadata": {
    "id": "GdTe7WgjH15R"
   },
   "source": [
    "How might we better visualize our data?\n",
    "\n",
    "This is where the data explorer's motto comes in!\n",
    "\n",
    "\"Visualize, visualize, visualize\""
   ]
  },
  {
   "cell_type": "code",
   "execution_count": 121,
   "metadata": {
    "executionInfo": {
     "elapsed": 2,
     "status": "ok",
     "timestamp": 1744955206041,
     "user": {
      "displayName": "VALDEABELLA, Seanrei Ethan",
      "userId": "09555695647680111144"
     },
     "user_tz": -480
    },
    "id": "nK22D75SEyKV"
   },
   "outputs": [],
   "source": [
    "def plot_predictions(train_data=X_train,\n",
    "                     train_labels=y_train,\n",
    "                     test_data=X_test,\n",
    "                     test_labels=y_test,\n",
    "                     predictions=None):\n",
    "  \"\"\" Plot training data, test data, and compares predictions\"\"\"\n",
    "  plt.figure(figsize=(10, 7))\n",
    "\n",
    "  # Plot training data in blue\n",
    "  plt.scatter(train_data, train_labels, c=\"blue\", label=\"Training Data\")\n",
    "\n",
    "  # Plot test data in green\n",
    "  plt.scatter(test_data, test_labels, c=\"g\", label=\"Testing Data\")\n",
    "\n",
    "  if predictions is not None:\n",
    "    plt.scatter(test_data, predictions, c=\"red\", label=\"Predictions\")\n",
    "\n",
    "  plt.legend(prop={\"size\":  14})"
   ]
  },
  {
   "cell_type": "code",
   "execution_count": 122,
   "metadata": {
    "colab": {
     "base_uri": "https://localhost:8080/",
     "height": 599
    },
    "executionInfo": {
     "elapsed": 441,
     "status": "ok",
     "timestamp": 1744955206481,
     "user": {
      "displayName": "VALDEABELLA, Seanrei Ethan",
      "userId": "09555695647680111144"
     },
     "user_tz": -480
    },
    "id": "fpsvlugpHhpD",
    "outputId": "c5df89e1-ef9d-4c01-aaf3-3d4df03f0472"
   },
   "outputs": [
    {
     "data": {
      "image/png": "[encoded data removed]",
      "text/plain": [
       "<Figure size 1000x700 with 1 Axes>"
      ]
     },
     "metadata": {},
     "output_type": "display_data"
    }
   ],
   "source": [
    "plot_predictions()"
   ]
  },
  {
   "cell_type": "markdown",
   "metadata": {
    "id": "k4eHmJEgLMIr"
   },
   "source": [
    "## 2. Building a model\n",
    "\n",
    "Our first PyTorch model!\n",
    "\n",
    "What our model does:\n",
    "\n",
    "- Start with random values (weight and bias)\n",
    "- Look at the training data and adjust the random values to better represent (or get closer to) the ideal values (the weight and bias we used to create the  data)\n",
    "\n",
    "How does it do so?\n",
    "\n",
    "Through two main algorithms:\n",
    "1. Gradient descent: https://www.youtube.com/watch?v=IHZwWFHWa-w\n",
    "2. Backpropagation: https://www.youtube.com/watch?v=Ilg3gGewQ5U"
   ]
  },
  {
   "cell_type": "code",
   "execution_count": 123,
   "metadata": {
    "executionInfo": {
     "elapsed": 1,
     "status": "ok",
     "timestamp": 1744955206483,
     "user": {
      "displayName": "VALDEABELLA, Seanrei Ethan",
      "userId": "09555695647680111144"
     },
     "user_tz": -480
    },
    "id": "tNte3idfLGf0"
   },
   "outputs": [],
   "source": [
    "# Create a linear regression model class\n",
    "class LinearRegressionModel(nn.Module):  # <- almost everything in PyTorch inherits from nn.module\n",
    "    def __init__(self):\n",
    "        super().__init__()\n",
    "        self.weights = nn.Parameter(torch.randn(1,  # <- start with a random weight and try to adjust it to the ideal weight\n",
    "                                            requires_grad=True,  # <- requires_grad = \"can this parameter be updated via gradient descent?\"\n",
    "                                            dtype=torch.float))  # <- PyTorch loves the datatype torch.float32\n",
    "\n",
    "        self.bias = nn.Parameter(torch.randn(1, requires_grad=True, dtype=torch.float))\n",
    "\n",
    "    # Forward method to define the computation in the model\n",
    "    def forward(self, x: torch.Tensor) -> torch.Tensor:  # <- \"x\" is the input data\n",
    "        return self.weights * x + self.bias  # this is the linear regression formula"
   ]
  },
  {
   "cell_type": "markdown",
   "metadata": {
    "id": "Gw1MzKd0SnPc"
   },
   "source": [
    "### PyTorch model building essentials\n",
    "\n",
    "- `torch.nn` - Contrains all of the buildings for computational graphs (lke neural network)\n",
    "- `torch.nn.Parameters` - What parameters should our model try and learn, often a PyTorch layer from torch.nn will set these for us\n",
    "- `torch.nn.Module` - The base class for all neural network modules, if you subclass it, you should overwrite `forward()`\n",
    "- `torch.optim` - This is where the optimizers in PyTorch live, they will help in gradient descent\n",
    "- `def_forward()` - All nn.Module subclasses require you to overwrite forward(), this method defines what happends in the forward computation\n",
    "\n",
    "PyTorch Cheat Sheet: https://pytorch.org/tutorials/beginner/ptcheat.html"
   ]
  },
  {
   "cell_type": "markdown",
   "metadata": {
    "id": "6RcihtXMSwQC"
   },
   "source": [
    "### Checking the contents of our pytorch model\n",
    "\n",
    "Now we've created a model, let's see what's inside...\n",
    "\n",
    "So we can check our model parameters or what's inside our model using .parameters()"
   ]
  },
  {
   "cell_type": "code",
   "execution_count": 124,
   "metadata": {
    "colab": {
     "base_uri": "https://localhost:8080/"
    },
    "executionInfo": {
     "elapsed": 4,
     "status": "ok",
     "timestamp": 1744955206487,
     "user": {
      "displayName": "VALDEABELLA, Seanrei Ethan",
      "userId": "09555695647680111144"
     },
     "user_tz": -480
    },
    "id": "3WJ8ViffYNhs",
    "outputId": "08d55766-356b-435d-a935-4ad37bf449d1"
   },
   "outputs": [
    {
     "data": {
      "text/plain": [
       "[Parameter containing:\n",
       " tensor([0.3367], requires_grad=True),\n",
       " Parameter containing:\n",
       " tensor([0.1288], requires_grad=True)]"
      ]
     },
     "execution_count": 124,
     "metadata": {},
     "output_type": "execute_result"
    }
   ],
   "source": [
    "# Create a random seed\n",
    "torch.manual_seed(42)\n",
    "\n",
    "# Create an instance of the model (this is a subclass of nn.module)\n",
    "model_0 = LinearRegressionModel()\n",
    "\n",
    "# Check out the parameters\n",
    "list(model_0.parameters())"
   ]
  },
  {
   "cell_type": "code",
   "execution_count": 125,
   "metadata": {
    "colab": {
     "base_uri": "https://localhost:8080/"
    },
    "executionInfo": {
     "elapsed": 13,
     "status": "ok",
     "timestamp": 1744955206501,
     "user": {
      "displayName": "VALDEABELLA, Seanrei Ethan",
      "userId": "09555695647680111144"
     },
     "user_tz": -480
    },
    "id": "ozUlZaeBcA69",
    "outputId": "26ed77b3-f386-4ce6-af1a-1c9f56de8fe1"
   },
   "outputs": [
    {
     "data": {
      "text/plain": [
       "OrderedDict([('weights', tensor([0.3367])), ('bias', tensor([0.1288]))])"
      ]
     },
     "execution_count": 125,
     "metadata": {},
     "output_type": "execute_result"
    }
   ],
   "source": [
    "# List named parameters\n",
    "model_0.state_dict()"
   ]
  },
  {
   "cell_type": "markdown",
   "metadata": {
    "id": "KxBqmm0zZWp8"
   },
   "source": [
    "### Making predictions using `torch.inference_mode()`\n",
    "\n",
    "To check our model's predictive power, let's see how well it predicts `y_test` based on `X_test`.\n",
    "\n",
    "When we pass data through our model, it's going to run it through the `forward()` method."
   ]
  },
  {
   "cell_type": "code",
   "execution_count": 126,
   "metadata": {
    "colab": {
     "base_uri": "https://localhost:8080/",
     "height": 773
    },
    "executionInfo": {
     "elapsed": 127,
     "status": "ok",
     "timestamp": 1744955206629,
     "user": {
      "displayName": "VALDEABELLA, Seanrei Ethan",
      "userId": "09555695647680111144"
     },
     "user_tz": -480
    },
    "id": "tTSnbld0cblJ",
    "outputId": "109adbb2-e8de-406e-a55f-ff0346148397"
   },
   "outputs": [
    {
     "name": "stdout",
     "output_type": "stream",
     "text": [
      "tensor([[0.3982],\n",
      "        [0.4049],\n",
      "        [0.4116],\n",
      "        [0.4184],\n",
      "        [0.4251],\n",
      "        [0.4318],\n",
      "        [0.4386],\n",
      "        [0.4453],\n",
      "        [0.4520],\n",
      "        [0.4588]])\n"
     ]
    },
    {
     "data": {
      "image/png": "[encoded data removed]",
      "text/plain": [
       "<Figure size 1000x700 with 1 Axes>"
      ]
     },
     "metadata": {},
     "output_type": "display_data"
    }
   ],
   "source": [
    "# Make predictions with model\n",
    "with torch.inference_mode():\n",
    "    y_preds = model_0(X_test)\n",
    "\n",
    "# You can also do something similar with torch.no_grad(), however, torch.inference_mode is preferred\n",
    "with torch.no_grad():\n",
    "    y_preds = model_0(X_test)\n",
    "\n",
    "print(y_preds)\n",
    "\n",
    "plot_predictions(predictions=y_preds)"
   ]
  },
  {
   "cell_type": "markdown",
   "metadata": {
    "id": "5hpFoGzOeQ9O"
   },
   "source": [
    "See more on inference mode here - https://x.com/PyTorch/status/1437838231505096708?lang=en"
   ]
  },
  {
   "cell_type": "markdown",
   "metadata": {
    "id": "scP2woifPxT2"
   },
   "source": [
    "## 3. Training the model\n",
    "\n",
    "The whole idea of training is for a model to move from some *unknown* parameters (these may be random) to some *known* parameters\n",
    "\n",
    "Or in other words from a poor representation of the data to a better representation of the data.\n",
    "\n",
    "One way to measure how poor or how wrong your models predictions are is to use a loss function.\n",
    "\n",
    "- Note: Loss function may also be called cost function or criterion in different areas. For our case, we're going to refer to it as a loss function\n",
    "\n",
    "Things we need to train:\n",
    "\n",
    "- **Loss function:** A function to measure how wrong your model's predictions are to the ideal outputs. Lower is better. https://pytorch.org/docs/stable/nn.html\n",
    "\n",
    "- **Optimizer:** Takes into account the loss of a model and adjusts the model's parameters (e.g. weight and bias in our case) to improve the loss function.\n",
    "https://pytorch.org/docs/stable/optim.html\n",
    "    - Inside the optimizer, you'll often have to set two parameters:\n",
    "        - `params` - the model parameters you'd like to optimize, for example `params=model_0.parameters()`\n",
    "        - `lr` (learning rate) = the learning rate is a hyperparameter that defines how big/small the optimizer changes the parameters (a small `lr` resulsts in small changes, a large `lr` results in large changes)\n",
    "\n",
    "And specifically for PyTorch, we need:\n",
    "- A training loop\n",
    "- A testing loop"
   ]
  },
  {
   "cell_type": "code",
   "execution_count": 127,
   "metadata": {
    "colab": {
     "base_uri": "https://localhost:8080/"
    },
    "executionInfo": {
     "elapsed": 6,
     "status": "ok",
     "timestamp": 1744955206635,
     "user": {
      "displayName": "VALDEABELLA, Seanrei Ethan",
      "userId": "09555695647680111144"
     },
     "user_tz": -480
    },
    "id": "uXViCzGBQNJz",
    "outputId": "b8ab7dbe-4f9e-4491-97df-005f0624956a"
   },
   "outputs": [
    {
     "data": {
      "text/plain": [
       "([Parameter containing:\n",
       "  tensor([0.3367], requires_grad=True),\n",
       "  Parameter containing:\n",
       "  tensor([0.1288], requires_grad=True)],\n",
       " OrderedDict([('weights', tensor([0.3367])), ('bias', tensor([0.1288]))]))"
      ]
     },
     "execution_count": 127,
     "metadata": {},
     "output_type": "execute_result"
    }
   ],
   "source": [
    "# Check out our model's parameters (a parameter is a value that the model sets itself)\n",
    "list(model_0.parameters()), model_0.state_dict()"
   ]
  },
  {
   "cell_type": "code",
   "execution_count": 128,
   "metadata": {
    "executionInfo": {
     "elapsed": 1,
     "status": "ok",
     "timestamp": 1744955206638,
     "user": {
      "displayName": "VALDEABELLA, Seanrei Ethan",
      "userId": "09555695647680111144"
     },
     "user_tz": -480
    },
    "id": "IBR-isIrRaUB"
   },
   "outputs": [],
   "source": [
    "# Setup a loss function\n",
    "loss_fn = nn.L1Loss()\n",
    "\n",
    "# Setup an optimizer (stochastic gradient descent)\n",
    "optimizer = torch.optim.SGD(params=model_0.parameters(),\n",
    "                            lr=0.01)  # lr = learning rate, possibly the most important hyperparameter"
   ]
  },
  {
   "cell_type": "markdown",
   "metadata": {
    "id": "2X-NVPJNTlRC"
   },
   "source": [
    "**Q:** Which loss function and optimizer should I use?\n",
    "**A:** This will be problem specific. But with experience, you'll get an idea of what works and what doesn't with your particular problem set.\n",
    "\n",
    "For example, for a regression problem (like ours), a loss function of `nn.L1Loss()` and an optimizer like `torch.optim.SGD()` will suffice.\n",
    "\n",
    "But for a classification problem like classifying whether a photo is of a dog or a cat, you'll likely want to use a loss function of `nn.BCELoss()` (binary cross entropy loss)"
   ]
  },
  {
   "cell_type": "markdown",
   "metadata": {
    "id": "zZhpA1fwWoX0"
   },
   "source": [
    "### Building a training loop (and a testing loop) in PyTorch\n",
    "\n",
    "A couple of things we need in a training loop:\n",
    "1. Loop through the data\n",
    "2. Forward pass (this involves data moving through our model's `forward()` functions) to make predicitons on data - also called **forward propagation**\n",
    "3. Calculate the loss (compare forward pass predictionsto ground truth labels)\n",
    "4. Optimize zero grad\n",
    "5. Loss backward - move backwards through the network to calculate the gradients of each of the parameters of our model with respect to the loss (**back propagation**)\n",
    "6. Opitmizer step - use the optimizer to adjust our model's parameters to try and improve the loss (**gradient descent**)"
   ]
  },
  {
   "cell_type": "code",
   "execution_count": 129,
   "metadata": {
    "colab": {
     "base_uri": "https://localhost:8080/"
    },
    "executionInfo": {
     "elapsed": 174,
     "status": "ok",
     "timestamp": 1744955206812,
     "user": {
      "displayName": "VALDEABELLA, Seanrei Ethan",
      "userId": "09555695647680111144"
     },
     "user_tz": -480
    },
    "id": "kLsOqOGOTmbH",
    "outputId": "bae58482-8781-4bbf-c6f3-6b1c564b9c97"
   },
   "outputs": [
    {
     "name": "stdout",
     "output_type": "stream",
     "text": [
      "Initial random parameter values: OrderedDict([('weights', tensor([0.3367])), ('bias', tensor([0.1288]))])\n",
      "Target parameter values (Actual values): weight=0.7, bias=0.3\n",
      "\n",
      "Epoch: 0 | Test: 0.31288138031959534 | Test loss: 0.48106518387794495\n",
      "Updated parameter values: OrderedDict([('weights', tensor([0.3406])), ('bias', tensor([0.1388]))])\n",
      "\n",
      "Epoch: 10 | Test: 0.1976713240146637 | Test loss: 0.3463551998138428\n",
      "Updated parameter values: OrderedDict([('weights', tensor([0.3796])), ('bias', tensor([0.2388]))])\n",
      "\n",
      "Epoch: 20 | Test: 0.08908725529909134 | Test loss: 0.21729660034179688\n",
      "Updated parameter values: OrderedDict([('weights', tensor([0.4184])), ('bias', tensor([0.3333]))])\n",
      "\n",
      "Epoch: 30 | Test: 0.053148526698350906 | Test loss: 0.14464017748832703\n",
      "Updated parameter values: OrderedDict([('weights', tensor([0.4512])), ('bias', tensor([0.3768]))])\n",
      "\n",
      "Epoch: 40 | Test: 0.04543796554207802 | Test loss: 0.11360953003168106\n",
      "Updated parameter values: OrderedDict([('weights', tensor([0.4748])), ('bias', tensor([0.3868]))])\n",
      "\n",
      "Epoch: 50 | Test: 0.04167863354086876 | Test loss: 0.09919948130846024\n",
      "Updated parameter values: OrderedDict([('weights', tensor([0.4938])), ('bias', tensor([0.3843]))])\n",
      "\n",
      "Epoch: 60 | Test: 0.03818932920694351 | Test loss: 0.08886633068323135\n",
      "Updated parameter values: OrderedDict([('weights', tensor([0.5116])), ('bias', tensor([0.3788]))])\n",
      "\n",
      "Epoch: 70 | Test: 0.03476089984178543 | Test loss: 0.0805937647819519\n",
      "Updated parameter values: OrderedDict([('weights', tensor([0.5288])), ('bias', tensor([0.3718]))])\n",
      "\n",
      "Epoch: 80 | Test: 0.03132382780313492 | Test loss: 0.07232122868299484\n",
      "Updated parameter values: OrderedDict([('weights', tensor([0.5459])), ('bias', tensor([0.3648]))])\n",
      "\n",
      "Epoch: 90 | Test: 0.02788739837706089 | Test loss: 0.06473556160926819\n",
      "Updated parameter values: OrderedDict([('weights', tensor([0.5629])), ('bias', tensor([0.3573]))])\n",
      "\n",
      "Epoch: 100 | Test: 0.024458957836031914 | Test loss: 0.05646304413676262\n",
      "Updated parameter values: OrderedDict([('weights', tensor([0.5800])), ('bias', tensor([0.3503]))])\n",
      "\n",
      "Epoch: 110 | Test: 0.021020207554101944 | Test loss: 0.04819049686193466\n",
      "Updated parameter values: OrderedDict([('weights', tensor([0.5972])), ('bias', tensor([0.3433]))])\n",
      "\n",
      "Epoch: 120 | Test: 0.01758546568453312 | Test loss: 0.04060482233762741\n",
      "Updated parameter values: OrderedDict([('weights', tensor([0.6141])), ('bias', tensor([0.3358]))])\n",
      "\n",
      "Epoch: 130 | Test: 0.014155393466353416 | Test loss: 0.03233227878808975\n",
      "Updated parameter values: OrderedDict([('weights', tensor([0.6313])), ('bias', tensor([0.3288]))])\n",
      "\n",
      "Epoch: 140 | Test: 0.010716589167714119 | Test loss: 0.024059748277068138\n",
      "Updated parameter values: OrderedDict([('weights', tensor([0.6485])), ('bias', tensor([0.3218]))])\n",
      "\n",
      "Epoch: 150 | Test: 0.0072835334576666355 | Test loss: 0.016474086791276932\n",
      "Updated parameter values: OrderedDict([('weights', tensor([0.6654])), ('bias', tensor([0.3143]))])\n",
      "\n",
      "Epoch: 160 | Test: 0.0038517764769494534 | Test loss: 0.008201557211577892\n",
      "Updated parameter values: OrderedDict([('weights', tensor([0.6826])), ('bias', tensor([0.3073]))])\n",
      "\n",
      "Epoch: 170 | Test: 0.008932482451200485 | Test loss: 0.005023092031478882\n",
      "Updated parameter values: OrderedDict([('weights', tensor([0.6951])), ('bias', tensor([0.2993]))])\n",
      "\n",
      "Epoch: 180 | Test: 0.008932482451200485 | Test loss: 0.005023092031478882\n",
      "Updated parameter values: OrderedDict([('weights', tensor([0.6951])), ('bias', tensor([0.2993]))])\n",
      "\n",
      "Epoch: 190 | Test: 0.008932482451200485 | Test loss: 0.005023092031478882\n",
      "Updated parameter values: OrderedDict([('weights', tensor([0.6951])), ('bias', tensor([0.2993]))])\n",
      "\n"
     ]
    }
   ],
   "source": [
    "torch.manual_seed(42)\n",
    "\n",
    "# An epoch is one loop through the data (this is a hyperparameter because we've set it ourselves)\n",
    "epochs = 200\n",
    "\n",
    "# Track different values so we can compare future experiments to past experiments\n",
    "epoch_count = []\n",
    "train_loss_values = []\n",
    "test_loss_values = []\n",
    "\n",
    "print(f\"Initial random parameter values: {model_0.state_dict()}\")\n",
    "print(f\"Target parameter values (Actual values): weight={weight}, bias={bias}\\n\")\n",
    "\n",
    "### Training\n",
    "# Step 1. Loop through the data\n",
    "for epoch in range(epochs):\n",
    "    # Set the model to training mode\n",
    "    model_0.train()  # train mode in PyTorch sets all parameters that require gradients to require gradients\n",
    "\n",
    "    # 1. Forward pass on train data\n",
    "    y_pred = model_0(X_train)\n",
    "\n",
    "    # 2. Calculate the loss\n",
    "    loss = loss_fn(y_pred, y_train)\n",
    "\n",
    "    # 3. Optimizer zero grad (gradients accumulate by default)\n",
    "    optimizer.zero_grad()\n",
    "\n",
    "    # 4. Perform backpropagation on the loss with respect to the parameters of the model\n",
    "    loss.backward()\n",
    "\n",
    "    # 5. Step the optimizer (perform gradient descent)\n",
    "    optimizer.step()\n",
    "\n",
    "    ### Testing\n",
    "    model_0.eval()  # turns off different settings in the model not needed for evaluation/testing (dropout/batch norm layer)\n",
    "    with torch.inference_mode():  # turns off gradient tracking and a couple more things behind the scenes\n",
    "        # 1. Do the forward pass\n",
    "        test_pred = model_0(X_test)\n",
    "\n",
    "        # 2. Calculate the loss\n",
    "        test_loss = loss_fn(test_pred, y_test)\n",
    "\n",
    "    if epoch % 10 == 0:\n",
    "        epoch_count.append(epoch)\n",
    "        train_loss_values.append(loss.detach().item())\n",
    "        test_loss_values.append(test_loss.detach().item())\n",
    "\n",
    "        print(f\"Epoch: {epoch} | Test: {loss} | Test loss: {test_loss}\")\n",
    "        print(f\"Updated parameter values: {model_0.state_dict()}\\n\")\n",
    "\n"
   ]
  },
  {
   "cell_type": "code",
   "execution_count": 130,
   "metadata": {
    "colab": {
     "base_uri": "https://localhost:8080/",
     "height": 472
    },
    "executionInfo": {
     "elapsed": 337,
     "status": "ok",
     "timestamp": 1744955207159,
     "user": {
      "displayName": "VALDEABELLA, Seanrei Ethan",
      "userId": "09555695647680111144"
     },
     "user_tz": -480
    },
    "id": "bjz5wPcGYqcj",
    "outputId": "40915f03-146a-40a6-fd5f-3b26be2fc29c"
   },
   "outputs": [
    {
     "data": {
      "image/png": "[encoded data removed]",
      "text/plain": [
       "<Figure size 640x480 with 1 Axes>"
      ]
     },
     "metadata": {},
     "output_type": "display_data"
    }
   ],
   "source": [
    "# Plot the loss curves\n",
    "plt.plot(epoch_count, train_loss_values, label=\"Train loss\")\n",
    "plt.plot(epoch_count, test_loss_values, label=\"Test loss\")\n",
    "plt.title(\"Train loss and test loss curves\")\n",
    "plt.ylabel(\"Loss\")\n",
    "plt.xlabel(\"Epochs\")\n",
    "plt.legend()\n",
    "plt.show()"
   ]
  },
  {
   "cell_type": "code",
   "execution_count": 131,
   "metadata": {
    "colab": {
     "base_uri": "https://localhost:8080/",
     "height": 599
    },
    "executionInfo": {
     "elapsed": 452,
     "status": "ok",
     "timestamp": 1744955207611,
     "user": {
      "displayName": "VALDEABELLA, Seanrei Ethan",
      "userId": "09555695647680111144"
     },
     "user_tz": -480
    },
    "id": "7rXPd5m1gOjw",
    "outputId": "dfa8624c-3237-4ba8-f98d-ce97cc93522d"
   },
   "outputs": [
    {
     "data": {
      "image/png": "[encoded data removed]",
      "text/plain": [
       "<Figure size 1000x700 with 1 Axes>"
      ]
     },
     "metadata": {},
     "output_type": "display_data"
    }
   ],
   "source": [
    "with torch.inference_mode():\n",
    "    y_preds_new = model_0(X_test)\n",
    "\n",
    "plot_predictions(predictions=y_preds_new)"
   ]
  },
  {
   "cell_type": "markdown",
   "metadata": {
    "id": "bPqZ4POyTRub"
   },
   "source": [
    "## 4. Saving a model in Pytorch\n",
    "\n",
    "There ar ethree main methods you should know about for saving sand loading models in PyTorch.\n",
    "\n",
    "1. `torch.save()` - allows you to save a PyTorch object in Python's pickle format\n",
    "2. `torch.load()` - allows you to load a saved PyTorch object\n",
    "3. `torch.nn.Module.load_state_dict()` - this allows to load a model's saved state dictionary\n",
    "\n",
    "PyTorch Save and Load Code Tutorial - https://pytorch.org/tutorials/beginner/saving_loading_models.html"
   ]
  },
  {
   "cell_type": "code",
   "execution_count": 132,
   "metadata": {
    "colab": {
     "base_uri": "https://localhost:8080/"
    },
    "executionInfo": {
     "elapsed": 4,
     "status": "ok",
     "timestamp": 1744955207616,
     "user": {
      "displayName": "VALDEABELLA, Seanrei Ethan",
      "userId": "09555695647680111144"
     },
     "user_tz": -480
    },
    "id": "wIvQEK-ih6ti",
    "outputId": "14fb987f-7e62-4199-ae46-6c41779e919a"
   },
   "outputs": [
    {
     "name": "stdout",
     "output_type": "stream",
     "text": [
      "Saving model to Models/01_pytorch_workflow_model_0.pth\n"
     ]
    }
   ],
   "source": [
    "# Saving our PyTorch model\n",
    "from pathlib import Path\n",
    "\n",
    "# 1. Create the model's directory\n",
    "MODEL_PATH = Path(\"Models\")\n",
    "MODEL_PATH.mkdir(parents=True, exist_ok=True)\n",
    "\n",
    "# Create a model save path\n",
    "MODEL_NAME = \"01_pytorch_workflow_model_0.pth\"\n",
    "MODEL_SAVE_PATH = MODEL_PATH / MODEL_NAME\n",
    "\n",
    "# Save the model state dict\n",
    "print(f\"Saving model to {MODEL_SAVE_PATH}\")\n",
    "torch.save(model_0.state_dict(), MODEL_SAVE_PATH)"
   ]
  },
  {
   "cell_type": "markdown",
   "metadata": {
    "id": "2xjAbwZp6vvQ"
   },
   "source": [
    "## 5. Loading a PyTorch Model\n",
    "\n",
    "Since we saved our model's `state_dict()` rather than the entire model, we'll create a new instance of our model class and load the saved `state_dict()`"
   ]
  },
  {
   "cell_type": "code",
   "execution_count": 133,
   "metadata": {
    "colab": {
     "base_uri": "https://localhost:8080/"
    },
    "executionInfo": {
     "elapsed": 15,
     "status": "ok",
     "timestamp": 1744955207632,
     "user": {
      "displayName": "VALDEABELLA, Seanrei Ethan",
      "userId": "09555695647680111144"
     },
     "user_tz": -480
    },
    "id": "6TCp0wdW85WY",
    "outputId": "1203f3f8-0938-4534-e738-f22c199fe095"
   },
   "outputs": [
    {
     "data": {
      "text/plain": [
       "OrderedDict([('weights', tensor([0.6990])), ('bias', tensor([0.3093]))])"
      ]
     },
     "execution_count": 133,
     "metadata": {},
     "output_type": "execute_result"
    }
   ],
   "source": [
    "# To load in a saved state_dict we have to instatiate a new instance of our model class\n",
    "loaded_model_0 = LinearRegressionModel()\n",
    "\n",
    "# Load the saved state_dict of model_0 (this will update the new instance with updated parameters )\n",
    "loaded_model_0.load_state_dict(torch.load(MODEL_SAVE_PATH, weights_only=True))\n",
    "\n",
    "loaded_model_0.state_dict()"
   ]
  },
  {
   "cell_type": "code",
   "execution_count": 134,
   "metadata": {
    "colab": {
     "base_uri": "https://localhost:8080/",
     "height": 773
    },
    "executionInfo": {
     "elapsed": 452,
     "status": "ok",
     "timestamp": 1744955208086,
     "user": {
      "displayName": "VALDEABELLA, Seanrei Ethan",
      "userId": "09555695647680111144"
     },
     "user_tz": -480
    },
    "id": "D6Sjck1TLrD5",
    "outputId": "c7568886-4315-45d4-9045-33f1e2119674"
   },
   "outputs": [
    {
     "data": {
      "text/plain": [
       "tensor([[True],\n",
       "        [True],\n",
       "        [True],\n",
       "        [True],\n",
       "        [True],\n",
       "        [True],\n",
       "        [True],\n",
       "        [True],\n",
       "        [True],\n",
       "        [True]])"
      ]
     },
     "execution_count": 134,
     "metadata": {},
     "output_type": "execute_result"
    },
    {
     "data": {
      "image/png": "[encoded data removed]",
      "text/plain": [
       "<Figure size 1000x700 with 1 Axes>"
      ]
     },
     "metadata": {},
     "output_type": "display_data"
    }
   ],
   "source": [
    "# Make predictions with the loaded model\n",
    "loaded_model_0.eval()\n",
    "with torch.inference_mode():\n",
    "    loaded_model_preds = loaded_model_0(X_test)\n",
    "\n",
    "plot_predictions(predictions=loaded_model_preds)\n",
    "\n",
    "y_preds_new == loaded_model_preds"
   ]
  },
  {
   "cell_type": "markdown",
   "metadata": {
    "id": "NB5d-YRmOgSW"
   },
   "source": [
    "## 6. Putting it all together\n",
    "\n",
    "Let's go back through the steps above and see it all in one place"
   ]
  },
  {
   "cell_type": "code",
   "execution_count": 135,
   "metadata": {
    "executionInfo": {
     "elapsed": 2,
     "status": "ok",
     "timestamp": 1744955208087,
     "user": {
      "displayName": "VALDEABELLA, Seanrei Ethan",
      "userId": "09555695647680111144"
     },
     "user_tz": -480
    },
    "id": "mPvIZb6VO08G"
   },
   "outputs": [],
   "source": [
    "# Importing libraries\n",
    "import torch\n",
    "from torch import nn\n",
    "import matplotlib.pyplot as plt\n",
    "import numpy"
   ]
  },
  {
   "cell_type": "markdown",
   "metadata": {
    "id": "OLcYuhX1Pzyr"
   },
   "source": [
    "### 1. Data (preparing and loading)"
   ]
  },
  {
   "cell_type": "code",
   "execution_count": 136,
   "metadata": {
    "colab": {
     "base_uri": "https://localhost:8080/"
    },
    "executionInfo": {
     "elapsed": 6,
     "status": "ok",
     "timestamp": 1744955208094,
     "user": {
      "displayName": "VALDEABELLA, Seanrei Ethan",
      "userId": "09555695647680111144"
     },
     "user_tz": -480
    },
    "id": "lPz-ApqAPOay",
    "outputId": "6b12ce06-2e1a-44e0-fc9e-06c349633cce"
   },
   "outputs": [
    {
     "data": {
      "text/plain": [
       "(tensor([[0.0000],\n",
       "         [0.0200],\n",
       "         [0.0400],\n",
       "         [0.0600],\n",
       "         [0.0800],\n",
       "         [0.1000],\n",
       "         [0.1200],\n",
       "         [0.1400],\n",
       "         [0.1600],\n",
       "         [0.1800]]),\n",
       " tensor([[0.3000],\n",
       "         [0.3140],\n",
       "         [0.3280],\n",
       "         [0.3420],\n",
       "         [0.3560],\n",
       "         [0.3700],\n",
       "         [0.3840],\n",
       "         [0.3980],\n",
       "         [0.4120],\n",
       "         [0.4260]]),\n",
       " 50,\n",
       " 50)"
      ]
     },
     "execution_count": 136,
     "metadata": {},
     "output_type": "execute_result"
    }
   ],
   "source": [
    "# Preparing the Data\n",
    "weight = 0.7\n",
    "bias = 0.3\n",
    "\n",
    "start = 0\n",
    "end = 1\n",
    "step = 0.02\n",
    "\n",
    "X = torch.arange(start, end ,step).unsqueeze(dim=1)\n",
    "y = weight * X + bias\n",
    "\n",
    "X[:10], y[:10], len(X), len(y)"
   ]
  },
  {
   "cell_type": "code",
   "execution_count": 137,
   "metadata": {
    "colab": {
     "base_uri": "https://localhost:8080/"
    },
    "executionInfo": {
     "elapsed": 31,
     "status": "ok",
     "timestamp": 1744955208125,
     "user": {
      "displayName": "VALDEABELLA, Seanrei Ethan",
      "userId": "09555695647680111144"
     },
     "user_tz": -480
    },
    "id": "1K8C85OgP7El",
    "outputId": "30d13d13-c443-4a83-cbf3-47a7478059d7"
   },
   "outputs": [
    {
     "data": {
      "text/plain": [
       "(40, 40, 10, 10)"
      ]
     },
     "execution_count": 137,
     "metadata": {},
     "output_type": "execute_result"
    }
   ],
   "source": [
    "# Splitting the data\n",
    "train_split = int(0.8 * len(X))\n",
    "\n",
    "X_train = X[:train_split]\n",
    "y_train = y[:train_split]\n",
    "\n",
    "X_test = X[train_split:]\n",
    "y_test = y[train_split:]\n",
    "\n",
    "len(X_train), len(y_train), len(X_test), len(y_test)"
   ]
  },
  {
   "cell_type": "markdown",
   "metadata": {
    "id": "3n6U6AurQwDX"
   },
   "source": [
    "### 2. Building a model"
   ]
  },
  {
   "cell_type": "code",
   "execution_count": 138,
   "metadata": {
    "executionInfo": {
     "elapsed": 46,
     "status": "ok",
     "timestamp": 1744955208172,
     "user": {
      "displayName": "VALDEABELLA, Seanrei Ethan",
      "userId": "09555695647680111144"
     },
     "user_tz": -480
    },
    "id": "U0DPYdI2QzsE"
   },
   "outputs": [],
   "source": [
    "class LinearRegressionModel2(nn.Module):\n",
    "    def __init__(self):\n",
    "        super().__init__()\n",
    "\n",
    "        self.linear_layer = nn.Linear(in_features=1, out_features=1)\n",
    "\n",
    "    def forward(self, x: torch.Tensor) -> torch.Tensor:\n",
    "        return self.linear_layer(x)"
   ]
  },
  {
   "cell_type": "code",
   "execution_count": 139,
   "metadata": {
    "colab": {
     "base_uri": "https://localhost:8080/"
    },
    "executionInfo": {
     "elapsed": 22,
     "status": "ok",
     "timestamp": 1744955208178,
     "user": {
      "displayName": "VALDEABELLA, Seanrei Ethan",
      "userId": "09555695647680111144"
     },
     "user_tz": -480
    },
    "id": "DG2cnT47p2Lc",
    "outputId": "2fe51b03-bfba-41c6-d8a7-4cd3baa0b139"
   },
   "outputs": [
    {
     "data": {
      "text/plain": [
       "tensor([[0.8000],\n",
       "        [0.8200],\n",
       "        [0.8400],\n",
       "        [0.8600],\n",
       "        [0.8800],\n",
       "        [0.9000],\n",
       "        [0.9200],\n",
       "        [0.9400],\n",
       "        [0.9600],\n",
       "        [0.9800]])"
      ]
     },
     "execution_count": 139,
     "metadata": {},
     "output_type": "execute_result"
    }
   ],
   "source": [
    "torch.manual_seed(42)\n",
    "model_1 = LinearRegressionModel2()\n",
    "model_1.state_dict()\n",
    "\n",
    "# Device agnostic code\n",
    "device = \"cuda\" if torch.cuda.is_available() else \"cpu\"\n",
    "\n",
    "model_1.to(device)\n",
    "next(model_1.parameters()).device\n",
    "X_train.to(device)\n",
    "y_train.to(device)\n",
    "X_test.to(device)\n",
    "X_test.to(device)"
   ]
  },
  {
   "cell_type": "markdown",
   "metadata": {
    "id": "KaOTbY1EqJGE"
   },
   "source": [
    "### 3. Training the model"
   ]
  },
  {
   "cell_type": "code",
   "execution_count": 140,
   "metadata": {
    "colab": {
     "base_uri": "https://localhost:8080/"
    },
    "executionInfo": {
     "elapsed": 127,
     "status": "ok",
     "timestamp": 1744955208291,
     "user": {
      "displayName": "VALDEABELLA, Seanrei Ethan",
      "userId": "09555695647680111144"
     },
     "user_tz": -480
    },
    "id": "r1RyviIKqkp4",
    "outputId": "11f66c16-762d-409f-ab31-c21526374985"
   },
   "outputs": [
    {
     "name": "stdout",
     "output_type": "stream",
     "text": [
      "Epoch: 0 | Train loss: 0.5551779866218567 | Test Loss: 0.5739762187004089\n",
      "Epoch: 10 | Train loss: 0.4399680495262146 | Test Loss: 0.4392663538455963\n",
      "Epoch: 20 | Train loss: 0.3247582018375397 | Test Loss: 0.30455657839775085\n",
      "Epoch: 30 | Train loss: 0.20954827964305878 | Test Loss: 0.16984674334526062\n",
      "Epoch: 40 | Train loss: 0.09433844685554504 | Test Loss: 0.03513689711689949\n",
      "Epoch: 50 | Train loss: 0.023886386305093765 | Test Loss: 0.04784906655550003\n",
      "Epoch: 60 | Train loss: 0.0199567973613739 | Test Loss: 0.04580312222242355\n",
      "Epoch: 70 | Train loss: 0.016517987474799156 | Test Loss: 0.0375305712223053\n",
      "Epoch: 80 | Train loss: 0.013089170679450035 | Test Loss: 0.029944902285933495\n",
      "Epoch: 90 | Train loss: 0.009653178043663502 | Test Loss: 0.02167237363755703\n",
      "Epoch: 100 | Train loss: 0.006215679459273815 | Test Loss: 0.014086711220443249\n",
      "Epoch: 110 | Train loss: 0.002787243574857712 | Test Loss: 0.005814164876937866\n",
      "Epoch: 120 | Train loss: 0.0012645035749301314 | Test Loss: 0.013801807537674904\n",
      "Epoch: 130 | Train loss: 0.0012645035749301314 | Test Loss: 0.013801807537674904\n",
      "Epoch: 140 | Train loss: 0.0012645035749301314 | Test Loss: 0.013801807537674904\n",
      "Epoch: 150 | Train loss: 0.0012645035749301314 | Test Loss: 0.013801807537674904\n",
      "Epoch: 160 | Train loss: 0.0012645035749301314 | Test Loss: 0.013801807537674904\n",
      "Epoch: 170 | Train loss: 0.0012645035749301314 | Test Loss: 0.013801807537674904\n",
      "Epoch: 180 | Train loss: 0.0012645035749301314 | Test Loss: 0.013801807537674904\n",
      "Epoch: 190 | Train loss: 0.0012645035749301314 | Test Loss: 0.013801807537674904\n"
     ]
    }
   ],
   "source": [
    "epochs = 200\n",
    "\n",
    "epoch_count = []\n",
    "train_loss_values = []\n",
    "test_loss_values = []\n",
    "\n",
    "loss_fn_2 = nn.L1Loss()\n",
    "optimizer = torch.optim.SGD(params=model_1.parameters(), lr=0.01)\n",
    "\n",
    "for epoch in range(epochs):\n",
    "    model_1.train()\n",
    "\n",
    "    y_pred = model_1(X_train)\n",
    "\n",
    "    loss = loss_fn_2(y_pred, y_train)\n",
    "\n",
    "    optimizer.zero_grad()\n",
    "\n",
    "    loss.backward()\n",
    "\n",
    "    optimizer.step()\n",
    "\n",
    "    # Testing\n",
    "    model_1.eval()\n",
    "    with torch.inference_mode():\n",
    "        test_pred = model_1(X_test)\n",
    "        test_loss = loss_fn_2(test_pred, y_test)\n",
    "\n",
    "    if epoch % 10 == 0:\n",
    "        epoch_count.append(epoch)\n",
    "        train_loss_values.append(loss.detach().item())\n",
    "        test_loss_values.append(test_loss.detach().item())\n",
    "        print(f\"Epoch: {epoch} | Train loss: {loss} | Test Loss: {test_loss}\")"
   ]
  },
  {
   "cell_type": "code",
   "execution_count": 141,
   "metadata": {
    "colab": {
     "base_uri": "https://localhost:8080/"
    },
    "executionInfo": {
     "elapsed": 43,
     "status": "ok",
     "timestamp": 1744955208333,
     "user": {
      "displayName": "VALDEABELLA, Seanrei Ethan",
      "userId": "09555695647680111144"
     },
     "user_tz": -480
    },
    "id": "v-ruv6uFu48X",
    "outputId": "d2f6e14f-4707-4ecf-fdd1-4f9d9024b501"
   },
   "outputs": [
    {
     "data": {
      "text/plain": [
       "OrderedDict([('linear_layer.weight', tensor([[0.6968]])),\n",
       "             ('linear_layer.bias', tensor([0.3025]))])"
      ]
     },
     "execution_count": 141,
     "metadata": {},
     "output_type": "execute_result"
    }
   ],
   "source": [
    "model_1.state_dict()"
   ]
  },
  {
   "cell_type": "code",
   "execution_count": 142,
   "metadata": {
    "colab": {
     "base_uri": "https://localhost:8080/",
     "height": 451
    },
    "executionInfo": {
     "elapsed": 267,
     "status": "ok",
     "timestamp": 1744955208597,
     "user": {
      "displayName": "VALDEABELLA, Seanrei Ethan",
      "userId": "09555695647680111144"
     },
     "user_tz": -480
    },
    "id": "SE3jgTQ9u65Y",
    "outputId": "b1de9816-792a-4abc-8849-6f0e0f35d888"
   },
   "outputs": [
    {
     "data": {
      "text/plain": [
       "[]"
      ]
     },
     "execution_count": 142,
     "metadata": {},
     "output_type": "execute_result"
    },
    {
     "data": {
      "image/png": "[encoded data removed]",
      "text/plain": [
       "<Figure size 640x480 with 1 Axes>"
      ]
     },
     "metadata": {},
     "output_type": "display_data"
    }
   ],
   "source": [
    "plt.plot(epoch_count, train_loss_values, label=\"Train loss\")\n",
    "plt.plot(epoch_count, test_loss_values, label=\"Test loss\")\n",
    "plt.legend()\n",
    "plt.plot()"
   ]
  },
  {
   "cell_type": "markdown",
   "metadata": {
    "id": "T8yvJK_zRZV3"
   },
   "source": [
    "### 4. Creating Predictions with the Test Set"
   ]
  },
  {
   "cell_type": "code",
   "execution_count": 143,
   "metadata": {
    "colab": {
     "base_uri": "https://localhost:8080/",
     "height": 599
    },
    "executionInfo": {
     "elapsed": 438,
     "status": "ok",
     "timestamp": 1744955209033,
     "user": {
      "displayName": "VALDEABELLA, Seanrei Ethan",
      "userId": "09555695647680111144"
     },
     "user_tz": -480
    },
    "id": "Ln2d9praRQno",
    "outputId": "cb6c0875-763a-48aa-ecd0-824d965dc670"
   },
   "outputs": [
    {
     "data": {
      "image/png": "[encoded data removed]",
      "text/plain": [
       "<Figure size 1000x700 with 1 Axes>"
      ]
     },
     "metadata": {},
     "output_type": "display_data"
    }
   ],
   "source": [
    "model_1.eval()\n",
    "with torch.inference_mode():\n",
    "    y_preds = model_1(X_test)\n",
    "\n",
    "plot_predictions(predictions=y_preds)"
   ]
  },
  {
   "cell_type": "markdown",
   "metadata": {
    "id": "LLR17eIBTFiV"
   },
   "source": [
    "### 5. Saving and loading the model"
   ]
  },
  {
   "cell_type": "code",
   "execution_count": 144,
   "metadata": {
    "executionInfo": {
     "elapsed": 2,
     "status": "ok",
     "timestamp": 1744955209035,
     "user": {
      "displayName": "VALDEABELLA, Seanrei Ethan",
      "userId": "09555695647680111144"
     },
     "user_tz": -480
    },
    "id": "TFVPW-WhTIbe"
   },
   "outputs": [],
   "source": [
    "# Saving\n",
    "from pathlib import Path\n",
    "\n",
    "PATH = Path(\"Models\")\n",
    "PATH.mkdir(parents=True, exist_ok=True)\n",
    "\n",
    "FILE_NAME = \"01-pytorch-workflow-model.pth\"\n",
    "SAVE_PATH = PATH / FILE_NAME\n",
    "torch.save(model_1.state_dict(), SAVE_PATH)"
   ]
  },
  {
   "cell_type": "code",
   "execution_count": 145,
   "metadata": {
    "colab": {
     "base_uri": "https://localhost:8080/"
    },
    "executionInfo": {
     "elapsed": 6,
     "status": "ok",
     "timestamp": 1744955209041,
     "user": {
      "displayName": "VALDEABELLA, Seanrei Ethan",
      "userId": "09555695647680111144"
     },
     "user_tz": -480
    },
    "id": "lgp8cPcMUjqH",
    "outputId": "8843943e-d604-47e8-f24d-a2ce351d8a22"
   },
   "outputs": [
    {
     "data": {
      "text/plain": [
       "LinearRegressionModel2(\n",
       "  (linear_layer): Linear(in_features=1, out_features=1, bias=True)\n",
       ")"
      ]
     },
     "execution_count": 145,
     "metadata": {},
     "output_type": "execute_result"
    }
   ],
   "source": [
    "# Loading\n",
    "new_model = LinearRegressionModel2()\n",
    "\n",
    "new_model.load_state_dict(torch.load(SAVE_PATH))\n",
    "\n",
    "new_model.state_dict()\n",
    "\n",
    "new_model.to(device)"
   ]
  },
  {
   "cell_type": "markdown",
   "metadata": {
    "id": "w_xgSsx6U3Nu"
   },
   "source": [
    "### 6. Prediction with the new model"
   ]
  },
  {
   "cell_type": "code",
   "execution_count": 146,
   "metadata": {
    "colab": {
     "base_uri": "https://localhost:8080/",
     "height": 599
    },
    "executionInfo": {
     "elapsed": 426,
     "status": "ok",
     "timestamp": 1744955209467,
     "user": {
      "displayName": "VALDEABELLA, Seanrei Ethan",
      "userId": "09555695647680111144"
     },
     "user_tz": -480
    },
    "id": "3ENReP7JVr9h",
    "outputId": "9764ae63-8efc-4e3f-91d2-6c9a98817f4f"
   },
   "outputs": [
    {
     "data": {
      "image/png": "[encoded data removed]",
      "text/plain": [
       "<Figure size 1000x700 with 1 Axes>"
      ]
     },
     "metadata": {},
     "output_type": "display_data"
    }
   ],
   "source": [
    "new_model.eval()\n",
    "with torch.inference_mode():\n",
    "    y_preds_new = new_model(X_test)\n",
    "\n",
    "plot_predictions(predictions=y_preds_new)"
   ]
  }
 ],
 "metadata": {
  "colab": {
   "authorship_tag": "ABX9TyM+unoPeRno8ltzcPkfZRFB",
   "provenance": []
  },
  "kernelspec": {
   "display_name": ".env",
   "language": "python",
   "name": "python3"
  },
  "language_info": {
   "codemirror_mode": {
    "name": "ipython",
    "version": 3
   },
   "file_extension": ".py",
   "mimetype": "text/x-python",
   "name": "python",
   "nbconvert_exporter": "python",
   "pygments_lexer": "ipython3",
   "version": "3.13.3"
  }
 },
 "nbformat": 4,
 "nbformat_minor": 0
}
