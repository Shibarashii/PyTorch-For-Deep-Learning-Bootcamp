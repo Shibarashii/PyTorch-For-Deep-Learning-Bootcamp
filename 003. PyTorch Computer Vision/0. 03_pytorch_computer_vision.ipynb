{
 "cells": [
  {
   "cell_type": "markdown",
   "id": "a9af2f36",
   "metadata": {},
   "source": [
    "# PyTorch Computer Vision\n",
    "\n",
    "Github Book: https://github.com/mrdbourke/pytorch-deep-learning/blob/main/03_pytorch_computer_vision.ipynb\n",
    "\n",
    "Reference Online Book: https://www.learnpytorch.io/03_pytorch_computer_vision/"
   ]
  },
  {
   "cell_type": "markdown",
   "id": "bb8d633d",
   "metadata": {},
   "source": [
    "## 0. Computer Vision libraries in PyTorch\n",
    "\n",
    "- [`torchvision`](https://docs.pytorch.org/vision/0.17/): base domain library for PyTorch computer vision\n",
    "- `torchvision.datasets`: get datasets and data loading functions for computer vision here\n",
    "- `torchvision.model`: get pre-trained computer vision models that you can leverage for your own problems\n",
    "- `torchvision.transforms`: functions for manipulating your vision data (images) to be suitable for use with an ML model\n",
    "- `torch.utils.data.Dataset`: base dataset class for PyTorch\n",
    "- `torch.utils.data.DataLoader`: creates a python iterable over a dataset"
   ]
  },
  {
   "cell_type": "code",
   "execution_count": 3,
   "id": "367615b2",
   "metadata": {},
   "outputs": [
    {
     "name": "stdout",
     "output_type": "stream",
     "text": [
      "PyTorch version: 2.7.0+cu126\n",
      "Torchvision version: 0.22.0+cu126\n"
     ]
    }
   ],
   "source": [
    "# Import PyTorch\n",
    "import torch\n",
    "from torch import nn\n",
    "\n",
    "# Import torchvision\n",
    "import torchvision\n",
    "from torchvision import datasets\n",
    "from torchvision import transforms\n",
    "from torchvision.transforms import ToTensor\n",
    "\n",
    "# Import matplotlib for visualization\n",
    "import matplotlib.pyplot as plt\n",
    "\n",
    "# Check versions\n",
    "print(f\"PyTorch version: {torch.__version__}\")\n",
    "print(f\"Torchvision version: {torchvision.__version__}\")"
   ]
  },
  {
   "cell_type": "code",
   "execution_count": null,
   "id": "b3e4c302",
   "metadata": {},
   "outputs": [],
   "source": []
  }
 ],
 "metadata": {
  "kernelspec": {
   "display_name": ".env",
   "language": "python",
   "name": "python3"
  },
  "language_info": {
   "codemirror_mode": {
    "name": "ipython",
    "version": 3
   },
   "file_extension": ".py",
   "mimetype": "text/x-python",
   "name": "python",
   "nbconvert_exporter": "python",
   "pygments_lexer": "ipython3",
   "version": "3.13.3"
  }
 },
 "nbformat": 4,
 "nbformat_minor": 5
}
